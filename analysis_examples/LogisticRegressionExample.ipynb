{
 "cells": [
  {
   "cell_type": "markdown",
   "metadata": {},
   "source": [
    "# Regularized Logistic Regression Example for Cohort Analysis"
   ]
  },
  {
   "cell_type": "markdown",
   "metadata": {},
   "source": [
    "This notebook provides the code for running a logistic regression analysis against user-sex and insuline resistance as reported in the PHD-Paper."
   ]
  },
  {
   "cell_type": "markdown",
   "metadata": {},
   "source": [
    "# Setup"
   ]
  },
  {
   "cell_type": "markdown",
   "metadata": {},
   "source": [
    "set path to `data.csv` and `metadata.csv` here"
   ]
  },
  {
   "cell_type": "code",
   "execution_count": 1,
   "metadata": {},
   "outputs": [],
   "source": [
    "PATH = './'"
   ]
  },
  {
   "cell_type": "markdown",
   "metadata": {},
   "source": [
    "# Imports"
   ]
  },
  {
   "cell_type": "code",
   "execution_count": 2,
   "metadata": {},
   "outputs": [],
   "source": [
    "import pandas as pd\n",
    "import json\n",
    "import string\n",
    "import pickle\n",
    "import argparse\n",
    "import sys, os\n",
    "from collections import OrderedDict\n",
    "from sklearn.linear_model import LassoCV, LogisticRegressionCV, RidgeCV, RidgeClassifierCV, MultiTaskLassoCV, LogisticRegression\n",
    "from sklearn.model_selection import train_test_split, GroupShuffleSplit, StratifiedShuffleSplit, KFold, RepeatedKFold\n",
    "from sklearn.metrics import precision_recall_curve, average_precision_score, roc_curve, auc, f1_score, classification_report\n",
    "from sklearn.metrics import precision_recall_fscore_support\n",
    "from sklearn.metrics import roc_curve, auc\n",
    "from sklearn.preprocessing import LabelBinarizer\n",
    "from sklearn import preprocessing\n",
    "from adjustText import adjust_text\n",
    "from mpl_toolkits.axes_grid1.inset_locator import inset_axes\n",
    "import matplotlib.pyplot as plt\n",
    "import matplotlib\n",
    "import datetime\n",
    "\n",
    "import random\n",
    "import numpy as np"
   ]
  },
  {
   "cell_type": "code",
   "execution_count": 3,
   "metadata": {},
   "outputs": [],
   "source": [
    "today = datetime.datetime.now()"
   ]
  },
  {
   "cell_type": "code",
   "execution_count": 4,
   "metadata": {},
   "outputs": [],
   "source": [
    "# SET SEED:\n",
    "random.seed(42)\n",
    "np.random.seed(42)\n",
    "os.environ['PYTHONHASHSEED'] = '42'"
   ]
  },
  {
   "cell_type": "code",
   "execution_count": 5,
   "metadata": {},
   "outputs": [
    {
     "data": {
      "text/plain": [
       "'XAJI0'"
      ]
     },
     "execution_count": 5,
     "metadata": {},
     "output_type": "execute_result"
    }
   ],
   "source": [
    "# TEST SEED\n",
    "hash1 = ''.join(random.choices(string.ascii_uppercase + string.digits, k=5))\n",
    "hash1"
   ]
  },
  {
   "cell_type": "code",
   "execution_count": 6,
   "metadata": {},
   "outputs": [],
   "source": [
    "color_dict  = {\n",
    "    \"turk\": \"#10696F\",\n",
    "    \"red\": \"#7e0d0a\",\n",
    "    \"blue\": \"#20627f\",\n",
    "    \"green\": \"#4b7432\",\n",
    "    \"orange\": \"#c05809\",\n",
    "    \"yellow\": \"#c49b10\",\n",
    "    \"grey\": \"#CCCCCC\",\n",
    "    \"lturk\": \"#1aa8b2\",\n",
    "    \"lred\": \"#ad120e\",\n",
    "    \"lblue\": \"#2f92bc\",\n",
    "    \"lgreen\": \"#6daa49\",\n",
    "    \"lorange\": \"#f57c20\",\n",
    "    \"lyellow\": \"#EEC333\",\n",
    "    \"lgrey\": \"#666666\"  \n",
    "}\n",
    "color_list = [*color_dict.values()]"
   ]
  },
  {
   "cell_type": "markdown",
   "metadata": {},
   "source": [
    "# 1 Preprocessing"
   ]
  },
  {
   "cell_type": "code",
   "execution_count": 7,
   "metadata": {},
   "outputs": [],
   "source": [
    "data = pd.read_csv(os.path.join(PATH, 'data.csv'))\n",
    "data['date_time'] = pd.to_datetime(data['date_time'])\n",
    "data = data.set_index('date_time')"
   ]
  },
  {
   "cell_type": "code",
   "execution_count": 8,
   "metadata": {},
   "outputs": [],
   "source": [
    "pid_to_int = OrderedDict([(pid, i) for i, pid in enumerate(data['PID'].unique())])"
   ]
  },
  {
   "cell_type": "markdown",
   "metadata": {},
   "source": [
    "### Calculate the features"
   ]
  },
  {
   "cell_type": "code",
   "execution_count": 9,
   "metadata": {},
   "outputs": [],
   "source": [
    "def calculate_ff_sleep_save(data, granularity=20, fillna=True):\n",
    "    \"\"\"\n",
    "    This function calculates the funny features.\n",
    "\n",
    "    calculates:\n",
    "      R - avg HR\n",
    "      R - avg resting HR\n",
    "        - avg sleeping HR\n",
    "        - day night difference in HR (avg day vs avg night)\n",
    "      R - nr of steps per day -> sum(steps)\n",
    "      R - nr of steps outliers -> X > 2sigma\n",
    "\n",
    "    and a number of percentage of outliers (of datapoints that day) over the whole distribution of the PID\n",
    "    \"\"\"\n",
    "    nice_feature_names = OrderedDict([\n",
    "        ('heart_rate', 'Heart rate'),\n",
    "        ('resting heart_rate', 'Resting heart rate'),\n",
    "        ('active_heart_rate', 'Active heart rate'),\n",
    "        ('sleeping_heart_rate', 'Sleeping heart rate'),\n",
    "        ('steps', 'Total steps'),\n",
    "        ('total_sleep_hours', 'Sleep hours'),\n",
    "        ('active_sleep_change_HR', 'Change in heart rate active/sleep'),\n",
    "        ('POO_heart_rate', '% of outliers in heart rate'),\n",
    "        ('POO_resting_heart_rate', '% of outliers in resting heart rate'),\n",
    "        ('POO_active_heart_rate', '% of outliers in active heart rate'),\n",
    "        ('POO_sleeping_heart_rate', '% of outliers in sleeping heart rate'),\n",
    "        ('POO_sleep', '% of outliers in sleeping hours'),\n",
    "        ('POO_steps', '% of outliers in steps'),\n",
    "    ])\n",
    "\n",
    "    def _calc_POO(valid_dates, df, p):\n",
    "        \"\"\"\n",
    "        calculates the percentage of outliers per day\n",
    "        :param df: the dataframe with calucalted Z_scores\n",
    "        :return:\n",
    "        \"\"\"\n",
    "        perc_of_outlier_per_day = OrderedDict()\n",
    "        for date_time, date_df in df.groupby(pd.Grouper(freq='D')):\n",
    "            date = date_time.date()\n",
    "            if date in valid_dates:\n",
    "                n_outliers = len(date_df.loc[date_df['Z_%s' % p] > 2])\n",
    "                try:\n",
    "                    perc_outliers = n_outliers/len(date_df)\n",
    "                except ZeroDivisionError:\n",
    "                    raise NotImplementedError('THis case should never happen, bc valid days are clean in cohort mode (->filtered)')\n",
    "                    perc_outliers = np.nan\n",
    "                perc_of_outlier_per_day[date] = perc_outliers\n",
    "            else:\n",
    "                perc_of_outlier_per_day[date] = np.nan\n",
    "\n",
    "        poo_df = pd.DataFrame.from_dict(perc_of_outlier_per_day, orient='index')\n",
    "        poo_df.columns = ['POO_%s' % p]\n",
    "        return poo_df\n",
    "\n",
    "\n",
    "    dates = set(np.unique([d.date() for d in data.index]))\n",
    "    in_params = [c for c in data.columns if c != 'sleep']\n",
    "\n",
    "    # open the feature df by calc the avgs per day:\n",
    "    ffeatures = data.groupby(pd.Grouper(freq='D')).mean() # we assume that if we have sleep, it is numeric.\n",
    "    ffeatures['sleep'] = data.groupby(pd.Grouper(freq='D')).sum()['sleep'] / (60/granularity)\n",
    "    ffeatures['steps'] = data.groupby(pd.Grouper(freq='D')).sum()['steps'] * granularity\n",
    "\n",
    "    # track what we want to get % of outliers from:\n",
    "    poo_params = [c for c in ffeatures.columns]\n",
    "\n",
    "    # now partition the data by steps:\n",
    "    active_data = data.loc[data['steps'] > 0.].loc[:, ['heart_rate']]\n",
    "    active_data.columns = ['active_heart_rate']\n",
    "    ffeatures['active_heart_rate'] = active_data.groupby(pd.Grouper(freq='D')).mean()\n",
    "    poo_params.append('active_heart_rate')\n",
    "\n",
    "    resting_data = data.loc[data['steps'] == 0.].loc[:, ['heart_rate']]\n",
    "    resting_data.columns = ['resting_heart_rate']\n",
    "    ffeatures['resting_heart_rate'] = resting_data.groupby(pd.Grouper(freq='D')).mean()\n",
    "    poo_params.append('resting_heart_rate')\n",
    "\n",
    "    data = pd.concat([data, active_data, resting_data], axis=1)\n",
    "\n",
    "    # now get the outliers for the first round:\n",
    "    for p in poo_params:\n",
    "        # get z_score:\n",
    "        data.loc[:, 'Z_%s' % p] = (data[p] - data[p].mean())/data[p].std(ddof=1)\n",
    "        # get  poo:\n",
    "        poo_df = _calc_POO(dates, data, p)\n",
    "        data.drop('Z_%s' % p, axis=1, inplace=True)\n",
    "        ffeatures = pd.concat([ffeatures, poo_df], axis=1)\n",
    "\n",
    "    # incorporate sleep:\n",
    "    sleep_params = ['sleeping_heart_rate']\n",
    "    if data['sleep'].nunique() == 2:\n",
    "        # use the binary sleep data:\n",
    "        resting_data = data.loc[data['steps'] == 0.].copy()\n",
    "        sleep_resting_data = resting_data[resting_data['sleep'] > 0.].loc[:, ['heart_rate']]\n",
    "        sleep_resting_data.columns = ['sleeping_heart_rate']\n",
    "        ffeatures['sleeping_heart_rate'] = sleep_resting_data.groupby(pd.Grouper(freq='D')).mean()\n",
    "        ffeatures['active_sleep_change_HR'] = ffeatures['active_heart_rate'] - ffeatures['sleeping_heart_rate']\n",
    "        ffeatures['total_sleep_hours'] = data.groupby(pd.Grouper(freq='D')).sum()['sleep'] / (60/granularity)\n",
    "\n",
    "        data = pd.concat([data, sleep_resting_data], axis=1)\n",
    "\n",
    "        for p in sleep_params:\n",
    "            # get z_score:\n",
    "            data.loc[:, 'Z_%s' % p] = (data[p] - data[p].mean())/data[p].std(ddof=1)\n",
    "            # get  poo:\n",
    "            poo_df = _calc_POO(dates, data, p)\n",
    "            data.drop('Z_%s' % p, axis=1, inplace=True)\n",
    "            ffeatures = pd.concat([ffeatures, poo_df], axis=1)\n",
    "    else:\n",
    "        for p in sleep_params:\n",
    "            ffeatures[p] = np.nan\n",
    "            ffeatures['POO_%s' % p] = np.nan\n",
    "        for p in ['active_sleep_change_HR', 'total_sleep_hours']:\n",
    "            ffeatures[p] = np.nan\n",
    "\n",
    "    # get a date index:\n",
    "    ffeatures.index = [i.date() for i in ffeatures.index]\n",
    "    ffeatures.index.name = 'date'\n",
    "\n",
    "    # drop all dates we did not have in the beginning:\n",
    "    ffeatures = ffeatures.loc[dates]\n",
    "\n",
    "    cols = []\n",
    "    for c in ffeatures.columns:\n",
    "        if c in nice_feature_names:\n",
    "            cols.append(nice_feature_names[c])\n",
    "        else:\n",
    "            cols.append(c)\n",
    "\n",
    "    ffeatures.columns = cols\n",
    "\n",
    "    ffeatures = ffeatures.sort_index()\n",
    "    ffeatures.reset_index(inplace=True)\n",
    "    \n",
    "    for c in ffeatures.select_dtypes(include=['number']):\n",
    "        if c == 'sleep':\n",
    "            ffeatures[c].fillna(ffeatures[c].median(), inplace=True)\n",
    "        else:    \n",
    "            ffeatures[c].fillna(ffeatures[c].mean(), inplace=True)\n",
    "\n",
    "    return ffeatures"
   ]
  },
  {
   "cell_type": "code",
   "execution_count": 10,
   "metadata": {},
   "outputs": [
    {
     "data": {
      "text/html": [
       "<div>\n",
       "<style scoped>\n",
       "    .dataframe tbody tr th:only-of-type {\n",
       "        vertical-align: middle;\n",
       "    }\n",
       "\n",
       "    .dataframe tbody tr th {\n",
       "        vertical-align: top;\n",
       "    }\n",
       "\n",
       "    .dataframe thead th {\n",
       "        text-align: right;\n",
       "    }\n",
       "</style>\n",
       "<table border=\"1\" class=\"dataframe\">\n",
       "  <thead>\n",
       "    <tr style=\"text-align: right;\">\n",
       "      <th></th>\n",
       "      <th>PID</th>\n",
       "      <th>heart_rate</th>\n",
       "      <th>sleep</th>\n",
       "      <th>steps</th>\n",
       "    </tr>\n",
       "    <tr>\n",
       "      <th>date_time</th>\n",
       "      <th></th>\n",
       "      <th></th>\n",
       "      <th></th>\n",
       "      <th></th>\n",
       "    </tr>\n",
       "  </thead>\n",
       "  <tbody>\n",
       "    <tr>\n",
       "      <td>2018-05-16 00:00:00</td>\n",
       "      <td>0jpk</td>\n",
       "      <td>60.0</td>\n",
       "      <td>1.0</td>\n",
       "      <td>0.0</td>\n",
       "    </tr>\n",
       "    <tr>\n",
       "      <td>2018-05-16 00:05:00</td>\n",
       "      <td>0jpk</td>\n",
       "      <td>62.0</td>\n",
       "      <td>1.0</td>\n",
       "      <td>0.0</td>\n",
       "    </tr>\n",
       "    <tr>\n",
       "      <td>2018-05-16 00:10:00</td>\n",
       "      <td>0jpk</td>\n",
       "      <td>64.0</td>\n",
       "      <td>1.0</td>\n",
       "      <td>0.0</td>\n",
       "    </tr>\n",
       "    <tr>\n",
       "      <td>2018-05-16 00:15:00</td>\n",
       "      <td>0jpk</td>\n",
       "      <td>65.0</td>\n",
       "      <td>1.0</td>\n",
       "      <td>0.0</td>\n",
       "    </tr>\n",
       "    <tr>\n",
       "      <td>2018-05-16 00:20:00</td>\n",
       "      <td>0jpk</td>\n",
       "      <td>66.0</td>\n",
       "      <td>1.0</td>\n",
       "      <td>0.0</td>\n",
       "    </tr>\n",
       "  </tbody>\n",
       "</table>\n",
       "</div>"
      ],
      "text/plain": [
       "                      PID  heart_rate  sleep  steps\n",
       "date_time                                          \n",
       "2018-05-16 00:00:00  0jpk        60.0    1.0    0.0\n",
       "2018-05-16 00:05:00  0jpk        62.0    1.0    0.0\n",
       "2018-05-16 00:10:00  0jpk        64.0    1.0    0.0\n",
       "2018-05-16 00:15:00  0jpk        65.0    1.0    0.0\n",
       "2018-05-16 00:20:00  0jpk        66.0    1.0    0.0"
      ]
     },
     "execution_count": 10,
     "metadata": {},
     "output_type": "execute_result"
    }
   ],
   "source": [
    "data.head()"
   ]
  },
  {
   "cell_type": "code",
   "execution_count": 11,
   "metadata": {},
   "outputs": [
    {
     "name": "stderr",
     "output_type": "stream",
     "text": [
      "/home/hduser/miniconda3/envs/clam_dev/lib/python3.6/site-packages/ipykernel_launcher.py:10: FutureWarning: Sorting because non-concatenation axis is not aligned. A future version\n",
      "of pandas will change to not sort by default.\n",
      "\n",
      "To accept the future behavior, pass 'sort=False'.\n",
      "\n",
      "To retain the current behavior and silence the warning, pass 'sort=True'.\n",
      "\n",
      "  # Remove the CWD from sys.path while we load stuff.\n"
     ]
    }
   ],
   "source": [
    "ffts = []\n",
    "\n",
    "for pid, i in pid_to_int.items():\n",
    "    pid_data = data[data['PID'] == pid]\n",
    "    pid_ffeatures = calculate_ff_sleep_save(pid_data.drop('PID', axis=1), \n",
    "                                            granularity=5)\n",
    "    pid_ffeatures['PID'] = pid\n",
    "    ffts.append(pid_ffeatures)\n",
    "    \n",
    "ffts = pd.concat(ffts, axis=0)"
   ]
  },
  {
   "cell_type": "code",
   "execution_count": 12,
   "metadata": {},
   "outputs": [],
   "source": [
    "ffts = ffts.set_index(['PID', 'date'])"
   ]
  },
  {
   "cell_type": "code",
   "execution_count": 13,
   "metadata": {},
   "outputs": [],
   "source": [
    "ffts.drop(['% of outliers in sleeping hours','sleep'], axis=1, inplace=True)"
   ]
  },
  {
   "cell_type": "markdown",
   "metadata": {},
   "source": [
    "### meta data"
   ]
  },
  {
   "cell_type": "code",
   "execution_count": 14,
   "metadata": {},
   "outputs": [],
   "source": [
    "meta_df = pd.read_csv(os.path.join(PATH, 'metadata.csv'\n",
    "                                  ))\n",
    "meta_df = meta_df.set_index('PID')\n",
    "meta_df = meta_df.loc[list(set(meta_df.index.values).intersection(pid_to_int.keys()))]"
   ]
  },
  {
   "cell_type": "code",
   "execution_count": 15,
   "metadata": {},
   "outputs": [],
   "source": [
    "n_days_pPID = ffts.groupby(ffts.index.get_level_values('PID')).apply(lambda x: x.shape[0])\n",
    "meta_df['n_days'] = np.nan\n",
    "for pid in n_days_pPID.index:\n",
    "    meta_df.loc[pid, 'n_days'] = n_days_pPID.loc[pid]\n",
    "meta_df = meta_df.dropna(subset=['n_days'])"
   ]
  },
  {
   "cell_type": "code",
   "execution_count": 16,
   "metadata": {},
   "outputs": [
    {
     "data": {
      "text/html": [
       "<div>\n",
       "<style scoped>\n",
       "    .dataframe tbody tr th:only-of-type {\n",
       "        vertical-align: middle;\n",
       "    }\n",
       "\n",
       "    .dataframe tbody tr th {\n",
       "        vertical-align: top;\n",
       "    }\n",
       "\n",
       "    .dataframe thead th {\n",
       "        text-align: right;\n",
       "    }\n",
       "</style>\n",
       "<table border=\"1\" class=\"dataframe\">\n",
       "  <thead>\n",
       "    <tr style=\"text-align: right;\">\n",
       "      <th></th>\n",
       "      <th>Age_today</th>\n",
       "      <th>Gender</th>\n",
       "      <th>IRvsIS</th>\n",
       "      <th>A1c</th>\n",
       "      <th>n_days</th>\n",
       "    </tr>\n",
       "    <tr>\n",
       "      <th>PID</th>\n",
       "      <th></th>\n",
       "      <th></th>\n",
       "      <th></th>\n",
       "      <th></th>\n",
       "      <th></th>\n",
       "    </tr>\n",
       "  </thead>\n",
       "  <tbody>\n",
       "    <tr>\n",
       "      <td>tgiq</td>\n",
       "      <td>49.353425</td>\n",
       "      <td>0.0</td>\n",
       "      <td>1.0</td>\n",
       "      <td>5.7</td>\n",
       "      <td>22.0</td>\n",
       "    </tr>\n",
       "    <tr>\n",
       "      <td>sk28</td>\n",
       "      <td>50.671233</td>\n",
       "      <td>1.0</td>\n",
       "      <td>1.0</td>\n",
       "      <td>5.7</td>\n",
       "      <td>19.0</td>\n",
       "    </tr>\n",
       "    <tr>\n",
       "      <td>0fn9</td>\n",
       "      <td>NaN</td>\n",
       "      <td>NaN</td>\n",
       "      <td>NaN</td>\n",
       "      <td>NaN</td>\n",
       "      <td>19.0</td>\n",
       "    </tr>\n",
       "    <tr>\n",
       "      <td>bdw2</td>\n",
       "      <td>NaN</td>\n",
       "      <td>NaN</td>\n",
       "      <td>NaN</td>\n",
       "      <td>NaN</td>\n",
       "      <td>10.0</td>\n",
       "    </tr>\n",
       "    <tr>\n",
       "      <td>jh75</td>\n",
       "      <td>NaN</td>\n",
       "      <td>NaN</td>\n",
       "      <td>NaN</td>\n",
       "      <td>NaN</td>\n",
       "      <td>11.0</td>\n",
       "    </tr>\n",
       "    <tr>\n",
       "      <td>v30t</td>\n",
       "      <td>NaN</td>\n",
       "      <td>NaN</td>\n",
       "      <td>NaN</td>\n",
       "      <td>NaN</td>\n",
       "      <td>17.0</td>\n",
       "    </tr>\n",
       "  </tbody>\n",
       "</table>\n",
       "</div>"
      ],
      "text/plain": [
       "      Age_today  Gender  IRvsIS  A1c  n_days\n",
       "PID                                         \n",
       "tgiq  49.353425     0.0     1.0  5.7    22.0\n",
       "sk28  50.671233     1.0     1.0  5.7    19.0\n",
       "0fn9        NaN     NaN     NaN  NaN    19.0\n",
       "bdw2        NaN     NaN     NaN  NaN    10.0\n",
       "jh75        NaN     NaN     NaN  NaN    11.0\n",
       "v30t        NaN     NaN     NaN  NaN    17.0"
      ]
     },
     "execution_count": 16,
     "metadata": {},
     "output_type": "execute_result"
    }
   ],
   "source": [
    "meta_df.query('n_days<25')"
   ]
  },
  {
   "cell_type": "markdown",
   "metadata": {},
   "source": [
    "# 3 Logistic Regression"
   ]
  },
  {
   "cell_type": "code",
   "execution_count": 17,
   "metadata": {},
   "outputs": [
    {
     "data": {
      "text/plain": [
       "'Y6DPB'"
      ]
     },
     "execution_count": 17,
     "metadata": {},
     "output_type": "execute_result"
    }
   ],
   "source": [
    "# TEST SEED\n",
    "hash2 = ''.join(random.choices(string.ascii_uppercase + string.digits, k=5))\n",
    "hash2"
   ]
  },
  {
   "cell_type": "code",
   "execution_count": 18,
   "metadata": {},
   "outputs": [],
   "source": [
    "from scipy.stats import sem\n",
    "\n",
    "color_list = ['#F28E85', '#8EB6F8', '#daebd4', ]\n",
    "def make_barplot(performance_dict, metric='metric', std=True):\n",
    "        fig, ax = plt.subplots(1, figsize=(2,4))\n",
    "        models = performance_dict.keys()\n",
    "        vals = [np.mean(performance_dict[mo][metric]) for mo in models]\n",
    "        stds = [np.std(performance_dict[mo][metric]) for mo in models]\n",
    "        sems = [sem(performance_dict[mo][metric], axis=None, ddof=0) for mo in models]\n",
    "        xs = [*range(len(models))]\n",
    "        ax.bar(x=xs, height=vals, \n",
    "               yerr=stds if std else sems, \n",
    "               color=[color_list[i] for i in range(len(models))])\n",
    "        for i in range(len(models)):\n",
    "            weight = \"normal\"\n",
    "            ax.text(x=i,\n",
    "                    y=0.95,\n",
    "                    s=\"{:.2f}\".format(vals[i]),\n",
    "                    horizontalalignment='center',\n",
    "                    fontweight=weight)\n",
    "        ax.set_ylabel(metric)\n",
    "        ax.set_xticks(xs)\n",
    "        ax.set_xticklabels([*performance_dict.keys()], rotation=60, horizontalalignment=\"right\")\n",
    "        ax.set_yticks(np.arange(0, 1.2, 0.2))\n",
    "        ax.set_title(metric)\n",
    "        ax.spines['right'].set_visible(False)\n",
    "        ax.spines['top'].set_visible(False)\n",
    "        return fig\n",
    "        \n",
    "def set_box_color(bp, color):\n",
    "    for b in bp['boxes']:\n",
    "        b.set_facecolor(color)\n",
    "    plt.setp(bp['medians'], color='black')\n",
    "\n",
    "def make_boxplot(performance_dict, metric='metric', \n",
    "                 std=True):\n",
    "    fig, ax = plt.subplots(1, figsize=(2,4))\n",
    "    models = performance_dict.keys()\n",
    "    vals = np.asarray([performance_dict[mo][metric] for mo in models])\n",
    "    \n",
    "    xs = [*range(len(models))]\n",
    "    \n",
    "    \n",
    "    for i in range(len(models)):\n",
    "        b = ax.boxplot(x=vals.tolist()[i],\n",
    "               positions=[i], \n",
    "               patch_artist=True,  # fill with color\n",
    "                       widths = 0.4\n",
    "              )\n",
    "        set_box_color(b, color_list[i])\n",
    "        weight = \"normal\"\n",
    "        ax.text(x=i,\n",
    "                y=0.93,\n",
    "                s=\"{:.2f}\".format(np.mean(vals[i])),\n",
    "                horizontalalignment='center',\n",
    "                fontweight=weight)\n",
    "    ax.set_ylabel(metric)\n",
    "    ax.set_xticks(xs)\n",
    "    ax.set_xticklabels([*performance_dict.keys()], rotation=60, horizontalalignment=\"right\")\n",
    "    ax.set_yticks(np.arange(0, 1.2, 0.2))\n",
    "    ax.set_title(metric)\n",
    "    ax.spines['right'].set_visible(False)\n",
    "    ax.spines['top'].set_visible(False)\n",
    "    return fig"
   ]
  },
  {
   "cell_type": "code",
   "execution_count": 19,
   "metadata": {},
   "outputs": [],
   "source": [
    "def map_meta_param(meta_df, param, pid_array, fill=np.nan):\n",
    "    mapped = []\n",
    "    for pid in pid_array:\n",
    "        try:\n",
    "            mapped.append(meta_df.loc[pid][param])\n",
    "        except KeyError:\n",
    "            mapped.append(fill)\n",
    "    return np.array(mapped)"
   ]
  },
  {
   "cell_type": "code",
   "execution_count": 20,
   "metadata": {},
   "outputs": [],
   "source": [
    "def percpos(labels):\n",
    "    return labels.sum()/labels.shape[0]"
   ]
  },
  {
   "cell_type": "code",
   "execution_count": 21,
   "metadata": {},
   "outputs": [],
   "source": [
    "def calculate_metrics(summary_dict, name=''):\n",
    "    \"\"\"\n",
    "    summary dict:\n",
    "    {'train_pids': Index([],\n",
    "       dtype='object', name='PID'),\n",
    "     'test_pids': Index([],\n",
    "           dtype='object', name='PID'),\n",
    "     'model': LogisticRegressionCV(Cs=10, class_weight=None, cv=5, dual=False,\n",
    "                          fit_intercept=True, intercept_scaling=1.0, l1_ratios=None,\n",
    "                          max_iter=500, multi_class='warn', n_jobs=None,\n",
    "                          penalty='l2', random_state=42, refit=True, scoring=None,\n",
    "                          solver='lbfgs', tol=0.0001, verbose=0),\n",
    "     'R2': 0.875,\n",
    "     'scores': array([[0.50235822, 0.49764178],\n",
    "            [0.4996584 , 0.5003416 ],\n",
    "            [0.49749738, 0.50250262],\n",
    "            [0.50063161, 0.49936839],\n",
    "            [0.50025308, 0.49974692],\n",
    "            [0.49603185, 0.50396815],\n",
    "            [0.49652264, 0.50347736],\n",
    "            [0.49910291, 0.50089709]]),\n",
    "     'targets': array([0., 0., 1., 0., 0., 1., 1., 1.])\n",
    "     }\n",
    "    \"\"\"\n",
    "    performance_dict = {\n",
    "        'Avg. precision score':[],\n",
    "        'FPR':[],\n",
    "        'TPR':[],\n",
    "        'Recall':[],\n",
    "        'AUC':[]\n",
    "    }\n",
    "    \n",
    "    \n",
    "    for summary in summary_dict:\n",
    "        t = np.concatenate(summary['targets'], axis=0).ravel()\n",
    "        s = np.concatenate([s[:, 1] for s in summary['scores']], axis=0).ravel()\n",
    "\n",
    "        prec = average_precision_score(t,\n",
    "                                       s, \n",
    "                                       pos_label=1, average='weighted')\n",
    "        performance_dict['Avg. precision score'].append(prec)\n",
    "        fpr, tpr, _ = roc_curve(t, s)\n",
    "        performance_dict['FPR'].append(fpr)\n",
    "        performance_dict['TPR'].append(tpr)\n",
    "        performance_dict['AUC'].append(auc(fpr, tpr))\n",
    "\n",
    "    return performance_dict"
   ]
  },
  {
   "cell_type": "code",
   "execution_count": 22,
   "metadata": {},
   "outputs": [],
   "source": [
    "def CV_split_train_summary(ffts, meta_df, col, niter, ndays, from_date=False):\n",
    "    \"\"\"\n",
    "    data is expected to have a mulitlevel index;\n",
    "    \n",
    "                   | col 1 | col 2\n",
    "        ----+------+-------+------\n",
    "        pid | date | \n",
    "    \n",
    "    run the whole splitting and training within a CV loop.\n",
    "    \"\"\"\n",
    "    run_dict = None\n",
    "    nsplits = 5\n",
    "    # 1. outer loop:\n",
    "    norm_params = ()\n",
    "    summary = []\n",
    "    \n",
    "    label_df = meta_df[[col]]\n",
    "\n",
    "    # filter the data w/ labels:     \n",
    "    data = select_n_days(ffts, n_days=ndays)\n",
    "    data = data.groupby(data.index.get_level_values('PID')).apply(lambda x: x.describe())\n",
    "    data.index.rename(['PID', 'descriptor'], inplace=True)\n",
    "    data.drop('count', level='descriptor', inplace=True, axis=0)\n",
    "    data = data.unstack(level=-1)\n",
    "\n",
    "    data = data.dropna()\n",
    "    data = data.loc[label_df[col].dropna().index.values].dropna()\n",
    "    labels = map_meta_param(label_df, \n",
    "                    col, \n",
    "                    data.index.get_level_values('PID'), \n",
    "                    fill=np.nan)\n",
    "\n",
    "    # inner loop\n",
    "    g = RepeatedKFold(n_splits=nsplits, n_repeats=niter)\n",
    "\n",
    "    for i, (train_index, test_index) in enumerate(g.split(data, labels)):\n",
    "        if run_dict is None:\n",
    "            run_dict = {\n",
    "                    'train_pids': [],\n",
    "                    'test_pids': [],\n",
    "                    'scores': [],\n",
    "                    'targets': [],\n",
    "                    'model': None\n",
    "               }\n",
    "        \n",
    "\n",
    "        X_train, X_test = data.iloc[train_index], data.iloc[test_index]\n",
    "        y_train, y_test = labels[train_index], labels[test_index]\n",
    "\n",
    "        # normalize:\n",
    "        transformer = preprocessing.PowerTransformer(method='yeo-johnson', standardize=True, copy=True)\n",
    "        transformer.fit(X_train)\n",
    "        X_train = pd.DataFrame(transformer.transform(X_train), columns=X_train.columns, index=X_train.index)\n",
    "        X_train = X_train.dropna()\n",
    "        X_test = pd.DataFrame(transformer.transform(X_test), columns=X_test.columns, index=X_test.index)\n",
    "\n",
    "        # train in inner loop:        \n",
    "        model = LogisticRegression(penalty='elasticnet',\n",
    "                                                dual=False, \n",
    "                                                tol=0.0001, \n",
    "                                                C=1.0, \n",
    "                                                fit_intercept=True, \n",
    "                                                intercept_scaling=1, \n",
    "                                                class_weight=None, \n",
    "                                                solver='saga', \n",
    "                                                max_iter=1000, \n",
    "                                                multi_class='auto', \n",
    "                                                verbose=0, \n",
    "                                                warm_start=False, \n",
    "                                                n_jobs=None, \n",
    "                                                l1_ratio=0.5)\n",
    "        model.fit(X_train.values, y_train)\n",
    "        try:\n",
    "            run_dict['scores'].append(model.predict_proba(X_test))\n",
    "        except:\n",
    "            run_dict['scores'].append(model.predict(X_test))\n",
    "\n",
    "        run_dict['targets'].append(y_test)\n",
    "            \n",
    "        \n",
    "        if (i+1)%nsplits ==0 and i > 0:\n",
    "            summary.append(run_dict)\n",
    "            run_dict = None\n",
    "\n",
    "    return summary"
   ]
  },
  {
   "cell_type": "code",
   "execution_count": 23,
   "metadata": {},
   "outputs": [],
   "source": [
    "def select_n_days(ffts, n_days=25):\n",
    "    \"\"\"\n",
    "    Select n days randomly\n",
    "    \"\"\"\n",
    "    selected_days = []\n",
    "\n",
    "    for pid in ffts.index.get_level_values('PID').unique():\n",
    "        pid_days = ffts.loc[pid].index.values\n",
    "        s = len(pid_days) if len(pid_days) < n_days else n_days\n",
    "        pid_days = pid_days[:s]\n",
    "        selected_days.extend([(pid, i) for i in pid_days])\n",
    "        \n",
    "    # get the subset:\n",
    "    ffts = ffts.loc[selected_days]\n",
    "    \n",
    "    return ffts"
   ]
  },
  {
   "cell_type": "code",
   "execution_count": null,
   "metadata": {},
   "outputs": [],
   "source": []
  },
  {
   "cell_type": "code",
   "execution_count": null,
   "metadata": {},
   "outputs": [],
   "source": []
  },
  {
   "cell_type": "markdown",
   "metadata": {},
   "source": [
    "### Prepare Labels"
   ]
  },
  {
   "cell_type": "code",
   "execution_count": 24,
   "metadata": {},
   "outputs": [],
   "source": [
    "meta_df['IRvsIS_inverted'] = (meta_df['IRvsIS']-1).abs()\n",
    "meta_df['Gender_inverted'] = (meta_df['Gender']-1).abs()"
   ]
  },
  {
   "cell_type": "code",
   "execution_count": 25,
   "metadata": {},
   "outputs": [
    {
     "data": {
      "text/plain": [
       "IRvsIS             0.521739\n",
       "IRvsIS_inverted    0.478261\n",
       "dtype: float64"
      ]
     },
     "execution_count": 25,
     "metadata": {},
     "output_type": "execute_result"
    }
   ],
   "source": [
    "meta_df[['IRvsIS', 'IRvsIS_inverted']].sum()/meta_df['IRvsIS'].dropna().shape[0]"
   ]
  },
  {
   "cell_type": "code",
   "execution_count": 26,
   "metadata": {},
   "outputs": [
    {
     "data": {
      "text/plain": [
       "Gender_inverted    0.484848\n",
       "dtype: float64"
      ]
     },
     "execution_count": 26,
     "metadata": {},
     "output_type": "execute_result"
    }
   ],
   "source": [
    "meta_df[['Gender_inverted']].sum()/meta_df['Gender'].dropna().shape[0]"
   ]
  },
  {
   "cell_type": "code",
   "execution_count": 27,
   "metadata": {},
   "outputs": [],
   "source": [
    "performances = {}"
   ]
  },
  {
   "cell_type": "code",
   "execution_count": 28,
   "metadata": {},
   "outputs": [],
   "source": [
    "def run(ffts, meta_df, pid_to_int, col='IRvsIS', ndays=14, niter=10):\n",
    "    summary = CV_split_train_summary(ffts, meta_df, col=col, niter=niter, \n",
    "                                     ndays=ndays, from_date=False)\n",
    "    performance = calculate_metrics(summary)\n",
    "    return performance, summary"
   ]
  },
  {
   "cell_type": "code",
   "execution_count": 29,
   "metadata": {
    "scrolled": false
   },
   "outputs": [
    {
     "name": "stdout",
     "output_type": "stream",
     "text": [
      "IRvsIS_inverted\n",
      "Gender_inverted\n"
     ]
    }
   ],
   "source": [
    "performances = {}\n",
    "ndays = 90\n",
    "niter=10\n",
    "for col in [\n",
    "    'IRvsIS_inverted', \n",
    "    'Gender_inverted', \n",
    "]:\n",
    "    print(col)\n",
    "    performance, _= run(ffts, meta_df, \n",
    "                        pid_to_int, col, ndays=ndays, niter=niter)\n",
    "    performances[col] = performance"
   ]
  },
  {
   "cell_type": "markdown",
   "metadata": {},
   "source": [
    "# 4 Visualize"
   ]
  },
  {
   "cell_type": "code",
   "execution_count": 30,
   "metadata": {},
   "outputs": [],
   "source": [
    "p = OrderedDict()\n",
    "p['Insuline resitance'] = performances['IRvsIS_inverted']\n",
    "p['Male sex'] = performances['Gender_inverted']"
   ]
  },
  {
   "cell_type": "code",
   "execution_count": 31,
   "metadata": {},
   "outputs": [],
   "source": [
    "auc_df = pd.DataFrame.from_dict(dict((k, v['AUC']) for k, v in p.items()), orient='index')\n",
    "avgpr_df = pd.DataFrame.from_dict(dict((k, v['Avg. precision score']) for k, v in p.items()), orient='index')"
   ]
  },
  {
   "cell_type": "code",
   "execution_count": 32,
   "metadata": {},
   "outputs": [
    {
     "data": {
      "image/png": "[encoded data removed]",
      "text/plain": [
       "<Figure size 144x288 with 1 Axes>"
      ]
     },
     "metadata": {
      "needs_background": "light"
     },
     "output_type": "display_data"
    }
   ],
   "source": [
    "f = make_boxplot(p, metric='AUC', std=False)"
   ]
  },
  {
   "cell_type": "code",
   "execution_count": 33,
   "metadata": {},
   "outputs": [
    {
     "data": {
      "image/png": "[encoded data removed]",
      "text/plain": [
       "<Figure size 144x288 with 1 Axes>"
      ]
     },
     "metadata": {
      "needs_background": "light"
     },
     "output_type": "display_data"
    }
   ],
   "source": [
    "f = make_boxplot(p, metric='Avg. precision score', std=False)"
   ]
  },
  {
   "cell_type": "code",
   "execution_count": null,
   "metadata": {},
   "outputs": [],
   "source": []
  }
 ],
 "metadata": {
  "kernelspec": {
   "display_name": "Python 3",
   "language": "python",
   "name": "python3"
  },
  "language_info": {
   "codemirror_mode": {
    "name": "ipython",
    "version": 3
   },
   "file_extension": ".py",
   "mimetype": "text/x-python",
   "name": "python",
   "nbconvert_exporter": "python",
   "pygments_lexer": "ipython3",
   "version": "3.6.9"
  }
 },
 "nbformat": 4,
 "nbformat_minor": 2
}
